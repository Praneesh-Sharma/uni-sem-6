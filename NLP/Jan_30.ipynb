{
 "cells": [
  {
   "cell_type": "code",
   "execution_count": 1,
   "id": "bbf9aa47",
   "metadata": {},
   "outputs": [],
   "source": [
    "import nltk\n",
    "from nltk.corpus import stopwords"
   ]
  },
  {
   "cell_type": "code",
   "execution_count": 3,
   "id": "a0ad8a68",
   "metadata": {},
   "outputs": [],
   "source": [
    "stops = stopwords.words('english')"
   ]
  },
  {
   "cell_type": "code",
   "execution_count": 4,
   "id": "6e4b8008",
   "metadata": {},
   "outputs": [
    {
     "name": "stdout",
     "output_type": "stream",
     "text": [
      "['i', 'me', 'my', 'myself', 'we', 'our', 'ours', 'ourselves', 'you', \"you're\", \"you've\", \"you'll\", \"you'd\", 'your', 'yours', 'yourself', 'yourselves', 'he', 'him', 'his', 'himself', 'she', \"she's\", 'her', 'hers', 'herself', 'it', \"it's\", 'its', 'itself', 'they', 'them', 'their', 'theirs', 'themselves', 'what', 'which', 'who', 'whom', 'this', 'that', \"that'll\", 'these', 'those', 'am', 'is', 'are', 'was', 'were', 'be', 'been', 'being', 'have', 'has', 'had', 'having', 'do', 'does', 'did', 'doing', 'a', 'an', 'the', 'and', 'but', 'if', 'or', 'because', 'as', 'until', 'while', 'of', 'at', 'by', 'for', 'with', 'about', 'against', 'between', 'into', 'through', 'during', 'before', 'after', 'above', 'below', 'to', 'from', 'up', 'down', 'in', 'out', 'on', 'off', 'over', 'under', 'again', 'further', 'then', 'once', 'here', 'there', 'when', 'where', 'why', 'how', 'all', 'any', 'both', 'each', 'few', 'more', 'most', 'other', 'some', 'such', 'no', 'nor', 'not', 'only', 'own', 'same', 'so', 'than', 'too', 'very', 's', 't', 'can', 'will', 'just', 'don', \"don't\", 'should', \"should've\", 'now', 'd', 'll', 'm', 'o', 're', 've', 'y', 'ain', 'aren', \"aren't\", 'couldn', \"couldn't\", 'didn', \"didn't\", 'doesn', \"doesn't\", 'hadn', \"hadn't\", 'hasn', \"hasn't\", 'haven', \"haven't\", 'isn', \"isn't\", 'ma', 'mightn', \"mightn't\", 'mustn', \"mustn't\", 'needn', \"needn't\", 'shan', \"shan't\", 'shouldn', \"shouldn't\", 'wasn', \"wasn't\", 'weren', \"weren't\", 'won', \"won't\", 'wouldn', \"wouldn't\"]\n"
     ]
    }
   ],
   "source": [
    "print(stops)\n",
    "#pronouns, determiners,conjunctions,prepositions, auxilliary verbs"
   ]
  },
  {
   "cell_type": "code",
   "execution_count": 5,
   "id": "8d0fd080",
   "metadata": {},
   "outputs": [
    {
     "data": {
      "text/plain": [
       "179"
      ]
     },
     "execution_count": 5,
     "metadata": {},
     "output_type": "execute_result"
    }
   ],
   "source": [
    "len(stops)"
   ]
  },
  {
   "cell_type": "code",
   "execution_count": 10,
   "id": "a342abe1",
   "metadata": {},
   "outputs": [
    {
     "name": "stdout",
     "output_type": "stream",
     "text": [
      "english 179\n",
      "spanish 313\n",
      "french 157\n",
      "german 232\n",
      "italian 279\n"
     ]
    }
   ],
   "source": [
    "list1 = ['english', 'spanish', 'french', 'german', 'italian']\n",
    "for word in list1:\n",
    "    print(word, len(stopwords.words(word)))"
   ]
  },
  {
   "cell_type": "code",
   "execution_count": 11,
   "id": "3be13d8b",
   "metadata": {},
   "outputs": [
    {
     "name": "stdout",
     "output_type": "stream",
     "text": [
      "['au', 'aux', 'avec', 'ce', 'ces', 'dans', 'de', 'des', 'du', 'elle', 'en', 'et', 'eux', 'il', 'ils', 'je', 'la', 'le', 'les', 'leur', 'lui', 'ma', 'mais', 'me', 'même', 'mes', 'moi', 'mon', 'ne', 'nos', 'notre', 'nous', 'on', 'ou', 'par', 'pas', 'pour', 'qu', 'que', 'qui', 'sa', 'se', 'ses', 'son', 'sur', 'ta', 'te', 'tes', 'toi', 'ton', 'tu', 'un', 'une', 'vos', 'votre', 'vous', 'c', 'd', 'j', 'l', 'à', 'm', 'n', 's', 't', 'y', 'été', 'étée', 'étées', 'étés', 'étant', 'étante', 'étants', 'étantes', 'suis', 'es', 'est', 'sommes', 'êtes', 'sont', 'serai', 'seras', 'sera', 'serons', 'serez', 'seront', 'serais', 'serait', 'serions', 'seriez', 'seraient', 'étais', 'était', 'étions', 'étiez', 'étaient', 'fus', 'fut', 'fûmes', 'fûtes', 'furent', 'sois', 'soit', 'soyons', 'soyez', 'soient', 'fusse', 'fusses', 'fût', 'fussions', 'fussiez', 'fussent', 'ayant', 'ayante', 'ayantes', 'ayants', 'eu', 'eue', 'eues', 'eus', 'ai', 'as', 'avons', 'avez', 'ont', 'aurai', 'auras', 'aura', 'aurons', 'aurez', 'auront', 'aurais', 'aurait', 'aurions', 'auriez', 'auraient', 'avais', 'avait', 'avions', 'aviez', 'avaient', 'eut', 'eûmes', 'eûtes', 'eurent', 'aie', 'aies', 'ait', 'ayons', 'ayez', 'aient', 'eusse', 'eusses', 'eût', 'eussions', 'eussiez', 'eussent']\n"
     ]
    }
   ],
   "source": [
    "frenchs = stopwords.words('french')\n",
    "print(frenchs)"
   ]
  },
  {
   "cell_type": "markdown",
   "id": "594ef3b0",
   "metadata": {},
   "source": [
    "### Removal of stopwords"
   ]
  },
  {
   "cell_type": "code",
   "execution_count": 25,
   "id": "75959084",
   "metadata": {},
   "outputs": [],
   "source": [
    "text = \"We aRe learning Stopwords removal IN THE CLASS today with 40 st\""
   ]
  },
  {
   "cell_type": "code",
   "execution_count": 26,
   "id": "24bf0afc",
   "metadata": {},
   "outputs": [],
   "source": [
    "text = text.lower()\n",
    "#it is advised to convert the string into lowercase beacause stopwords in nltk are saved in lowercase"
   ]
  },
  {
   "cell_type": "code",
   "execution_count": 27,
   "id": "596ea54f",
   "metadata": {},
   "outputs": [],
   "source": [
    "from nltk.tokenize import word_tokenize"
   ]
  },
  {
   "cell_type": "code",
   "execution_count": 28,
   "id": "0ddf326d",
   "metadata": {},
   "outputs": [],
   "source": [
    "tokens = word_tokenize(text)"
   ]
  },
  {
   "cell_type": "code",
   "execution_count": 29,
   "id": "63603221",
   "metadata": {},
   "outputs": [
    {
     "name": "stdout",
     "output_type": "stream",
     "text": [
      "['we', 'are', 'learning', 'stopwords', 'removal', 'in', 'the', 'class', 'today', 'with', '40', 'st'] "
     ]
    }
   ],
   "source": [
    "print(tokens, end = \" \")"
   ]
  },
  {
   "cell_type": "code",
   "execution_count": 30,
   "id": "a2e8e0d6",
   "metadata": {},
   "outputs": [
    {
     "data": {
      "text/plain": [
       "12"
      ]
     },
     "execution_count": 30,
     "metadata": {},
     "output_type": "execute_result"
    }
   ],
   "source": [
    "len(tokens)"
   ]
  },
  {
   "cell_type": "code",
   "execution_count": 34,
   "id": "559c6443",
   "metadata": {},
   "outputs": [
    {
     "name": "stdout",
     "output_type": "stream",
     "text": [
      "['learning', 'stopwords', 'removal', 'class', 'today', '40', 'st']\n"
     ]
    }
   ],
   "source": [
    "list2 = []\n",
    "\n",
    "for word in tokens:\n",
    "    if word not in stops:\n",
    "        list2.append(word)    \n",
    "\n",
    "print(list2)"
   ]
  },
  {
   "cell_type": "code",
   "execution_count": 35,
   "id": "51c2e34b",
   "metadata": {},
   "outputs": [
    {
     "data": {
      "text/plain": [
       "list"
      ]
     },
     "execution_count": 35,
     "metadata": {},
     "output_type": "execute_result"
    }
   ],
   "source": [
    "type(list2)"
   ]
  },
  {
   "cell_type": "code",
   "execution_count": 40,
   "id": "6ab34d3c",
   "metadata": {},
   "outputs": [
    {
     "name": "stdout",
     "output_type": "stream",
     "text": [
      "l e a r n i n g   s t o p w o r d s   r e m o v a l   c l a s s   t o d a y   4 0   s t\n"
     ]
    }
   ],
   "source": [
    "list2 = \"\".join(list2)\n",
    "print(list2)"
   ]
  },
  {
   "cell_type": "code",
   "execution_count": 53,
   "id": "169d593f",
   "metadata": {},
   "outputs": [],
   "source": [
    "text2 = \"India will surely win the World Cup next time, I just bet it!\""
   ]
  },
  {
   "cell_type": "code",
   "execution_count": 54,
   "id": "8ec1a73e",
   "metadata": {},
   "outputs": [],
   "source": [
    "tokens2 = word_tokenize(text2.lower())"
   ]
  },
  {
   "cell_type": "code",
   "execution_count": 63,
   "id": "f73a634b",
   "metadata": {},
   "outputs": [
    {
     "name": "stdout",
     "output_type": "stream",
     "text": [
      "['india', 'surely', 'win', 'world', 'cup', 'next', 'time', ',', 'bet', '!']\n"
     ]
    }
   ],
   "source": [
    "list3 = []\n",
    "\n",
    "for word in tokens2:\n",
    "    if word not in stops:\n",
    "        list3.append(word)\n",
    "    \n",
    "print(list3)"
   ]
  },
  {
   "cell_type": "code",
   "execution_count": 64,
   "id": "565b86b8",
   "metadata": {},
   "outputs": [],
   "source": [
    "str2 = \"\"\n",
    "for word in list3:\n",
    "    str2 += word + \" \""
   ]
  },
  {
   "cell_type": "code",
   "execution_count": 65,
   "id": "12271f7e",
   "metadata": {},
   "outputs": [
    {
     "data": {
      "text/plain": [
       "'india surely win world cup next time , bet ! '"
      ]
     },
     "execution_count": 65,
     "metadata": {},
     "output_type": "execute_result"
    }
   ],
   "source": [
    "str2"
   ]
  },
  {
   "cell_type": "code",
   "execution_count": 66,
   "id": "0b4059a0",
   "metadata": {},
   "outputs": [
    {
     "data": {
      "text/plain": [
       "str"
      ]
     },
     "execution_count": 66,
     "metadata": {},
     "output_type": "execute_result"
    }
   ],
   "source": [
    "type(str2)"
   ]
  },
  {
   "cell_type": "markdown",
   "id": "03b8af47",
   "metadata": {},
   "source": [
    "### Stemming"
   ]
  },
  {
   "cell_type": "code",
   "execution_count": 78,
   "id": "5ca17d5b",
   "metadata": {},
   "outputs": [],
   "source": [
    "from nltk.stem import LancasterStemmer\n",
    "ls = LancasterStemmer()"
   ]
  },
  {
   "cell_type": "code",
   "execution_count": 79,
   "id": "6eedfdfa",
   "metadata": {},
   "outputs": [
    {
     "name": "stdout",
     "output_type": "stream",
     "text": [
      "ind sur win world cup next tim , bet ! "
     ]
    }
   ],
   "source": [
    "list4 = []\n",
    "for word in list3:\n",
    "    print(ls.stem(word), end=\" \")\n",
    "    list4.append(ls.stem(word))"
   ]
  },
  {
   "cell_type": "markdown",
   "id": "fcc986b8",
   "metadata": {},
   "source": [
    "### Lemmatization"
   ]
  },
  {
   "cell_type": "code",
   "execution_count": 80,
   "id": "048acc1a",
   "metadata": {},
   "outputs": [],
   "source": [
    "from nltk.stem import WordNetLemmatizer\n",
    "wnl = WordNetLemmatizer()"
   ]
  },
  {
   "cell_type": "code",
   "execution_count": 81,
   "id": "8ac8aa25",
   "metadata": {},
   "outputs": [
    {
     "name": "stdout",
     "output_type": "stream",
     "text": [
      "ind sur win world cup next tim , bet ! "
     ]
    }
   ],
   "source": [
    "for word in list4:\n",
    "    print(wnl.lemmatize(word),end=\" \")"
   ]
  },
  {
   "cell_type": "markdown",
   "id": "f943b612",
   "metadata": {},
   "source": [
    "### POS"
   ]
  },
  {
   "cell_type": "code",
   "execution_count": 82,
   "id": "2411f9cb",
   "metadata": {},
   "outputs": [],
   "source": [
    "from nltk import pos_tag"
   ]
  },
  {
   "cell_type": "code",
   "execution_count": 83,
   "id": "99cf306a",
   "metadata": {},
   "outputs": [
    {
     "data": {
      "text/plain": [
       "[('ind', 'NN'),\n",
       " ('sur', 'NN'),\n",
       " ('win', 'VBP'),\n",
       " ('world', 'NN'),\n",
       " ('cup', 'NN'),\n",
       " ('next', 'JJ'),\n",
       " ('tim', 'NN'),\n",
       " (',', ','),\n",
       " ('bet', 'NN'),\n",
       " ('!', '.')]"
      ]
     },
     "execution_count": 83,
     "metadata": {},
     "output_type": "execute_result"
    }
   ],
   "source": [
    "pos_tag(list4)"
   ]
  },
  {
   "cell_type": "code",
   "execution_count": null,
   "id": "ae593308",
   "metadata": {},
   "outputs": [],
   "source": []
  }
 ],
 "metadata": {
  "kernelspec": {
   "display_name": "Python 3 (ipykernel)",
   "language": "python",
   "name": "python3"
  },
  "language_info": {
   "codemirror_mode": {
    "name": "ipython",
    "version": 3
   },
   "file_extension": ".py",
   "mimetype": "text/x-python",
   "name": "python",
   "nbconvert_exporter": "python",
   "pygments_lexer": "ipython3",
   "version": "3.9.7"
  }
 },
 "nbformat": 4,
 "nbformat_minor": 5
}
