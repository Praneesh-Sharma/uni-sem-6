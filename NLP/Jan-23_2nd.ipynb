{
 "cells": [
  {
   "cell_type": "code",
   "execution_count": 1,
   "id": "1fcc0620",
   "metadata": {},
   "outputs": [],
   "source": [
    "import re"
   ]
  },
  {
   "cell_type": "code",
   "execution_count": 2,
   "id": "d8c3ea1b",
   "metadata": {},
   "outputs": [
    {
     "data": {
      "text/plain": [
       "['A',\n",
       " 'ASCII',\n",
       " 'DEBUG',\n",
       " 'DOTALL',\n",
       " 'I',\n",
       " 'IGNORECASE',\n",
       " 'L',\n",
       " 'LOCALE',\n",
       " 'M',\n",
       " 'MULTILINE',\n",
       " 'Match',\n",
       " 'Pattern',\n",
       " 'RegexFlag',\n",
       " 'S',\n",
       " 'Scanner',\n",
       " 'T',\n",
       " 'TEMPLATE',\n",
       " 'U',\n",
       " 'UNICODE',\n",
       " 'VERBOSE',\n",
       " 'X',\n",
       " '_MAXCACHE',\n",
       " '__all__',\n",
       " '__builtins__',\n",
       " '__cached__',\n",
       " '__doc__',\n",
       " '__file__',\n",
       " '__loader__',\n",
       " '__name__',\n",
       " '__package__',\n",
       " '__spec__',\n",
       " '__version__',\n",
       " '_cache',\n",
       " '_compile',\n",
       " '_compile_repl',\n",
       " '_expand',\n",
       " '_locale',\n",
       " '_pickle',\n",
       " '_special_chars_map',\n",
       " '_subx',\n",
       " 'compile',\n",
       " 'copyreg',\n",
       " 'enum',\n",
       " 'error',\n",
       " 'escape',\n",
       " 'findall',\n",
       " 'finditer',\n",
       " 'fullmatch',\n",
       " 'functools',\n",
       " 'match',\n",
       " 'purge',\n",
       " 'search',\n",
       " 'split',\n",
       " 'sre_compile',\n",
       " 'sre_parse',\n",
       " 'sub',\n",
       " 'subn',\n",
       " 'template']"
      ]
     },
     "execution_count": 2,
     "metadata": {},
     "output_type": "execute_result"
    }
   ],
   "source": [
    "dir(re)"
   ]
  },
  {
   "cell_type": "code",
   "execution_count": 6,
   "id": "7ea290f9",
   "metadata": {},
   "outputs": [],
   "source": [
    "str1 = \"hello...123##India!..my students ROCKS\"\n",
    "sub = \"Natural Language Processing\""
   ]
  },
  {
   "cell_type": "code",
   "execution_count": 8,
   "id": "c52deef1",
   "metadata": {},
   "outputs": [
    {
     "data": {
      "text/plain": [
       "['N', 'L', 'P']"
      ]
     },
     "execution_count": 8,
     "metadata": {},
     "output_type": "execute_result"
    }
   ],
   "source": [
    "# re.findall(pattern, source)\n",
    "re.findall('[A-Z]',sub)"
   ]
  },
  {
   "cell_type": "code",
   "execution_count": 12,
   "id": "1d8fc43f",
   "metadata": {},
   "outputs": [
    {
     "data": {
      "text/plain": [
       "['N']"
      ]
     },
     "execution_count": 12,
     "metadata": {},
     "output_type": "execute_result"
    }
   ],
   "source": [
    "#only the first letter : ^ caret\n",
    "# ^ outside [] means starting with\n",
    "# ^ inside [] means not starting with\n",
    "re.findall('^[A-Z]',sub)"
   ]
  },
  {
   "cell_type": "code",
   "execution_count": 13,
   "id": "d262ce2e",
   "metadata": {},
   "outputs": [
    {
     "data": {
      "text/plain": [
       "['N', ' ', 'L', ' ', 'P']"
      ]
     },
     "execution_count": 13,
     "metadata": {},
     "output_type": "execute_result"
    }
   ],
   "source": [
    "re.findall('[^a-z]',sub)"
   ]
  },
  {
   "cell_type": "code",
   "execution_count": 16,
   "id": "a95dff1f",
   "metadata": {},
   "outputs": [
    {
     "data": {
      "text/plain": [
       "['hello', '123', 'India', 'my', 'students', 'ROCKS']"
      ]
     },
     "execution_count": 16,
     "metadata": {},
     "output_type": "execute_result"
    }
   ],
   "source": [
    "#extract all alphanumeric letters: a-z A-Z 0-9 _ : \\w\n",
    "re.findall('\\w+',str1)"
   ]
  },
  {
   "cell_type": "code",
   "execution_count": 17,
   "id": "554a7613",
   "metadata": {},
   "outputs": [
    {
     "data": {
      "text/plain": [
       "['hello',\n",
       " '',\n",
       " '',\n",
       " '',\n",
       " '123',\n",
       " '',\n",
       " '',\n",
       " 'India',\n",
       " '',\n",
       " '',\n",
       " '',\n",
       " 'my',\n",
       " '',\n",
       " 'students',\n",
       " '',\n",
       " 'ROCKS',\n",
       " '']"
      ]
     },
     "execution_count": 17,
     "metadata": {},
     "output_type": "execute_result"
    }
   ],
   "source": [
    "re.findall('\\w*',str1)"
   ]
  },
  {
   "cell_type": "code",
   "execution_count": 19,
   "id": "def50f06",
   "metadata": {},
   "outputs": [
    {
     "data": {
      "text/plain": [
       "['.', '.', '.', '#', '#', '!', '.', '.', ' ', ' ']"
      ]
     },
     "execution_count": 19,
     "metadata": {},
     "output_type": "execute_result"
    }
   ],
   "source": [
    "#non alphanumeric letters\n",
    "re.findall('\\W',str1)"
   ]
  },
  {
   "cell_type": "code",
   "execution_count": 22,
   "id": "26430e8c",
   "metadata": {},
   "outputs": [
    {
     "data": {
      "text/plain": [
       "['ia!..my studen']"
      ]
     },
     "execution_count": 22,
     "metadata": {},
     "output_type": "execute_result"
    }
   ],
   "source": [
    "#letters between i. and n\n",
    "re.findall('i.*n',str1)"
   ]
  },
  {
   "cell_type": "code",
   "execution_count": 27,
   "id": "74c7ecf0",
   "metadata": {},
   "outputs": [
    {
     "data": {
      "text/plain": [
       "['India']"
      ]
     },
     "execution_count": 27,
     "metadata": {},
     "output_type": "execute_result"
    }
   ],
   "source": [
    "re.findall('i.*a',str1,flags=re.IGNORECASE)"
   ]
  },
  {
   "cell_type": "code",
   "execution_count": 31,
   "id": "acc32e7e",
   "metadata": {},
   "outputs": [
    {
     "data": {
      "text/plain": [
       "['hello...123##', '', 'ndia!..my students ', '', '', '', '', '', '']"
      ]
     },
     "execution_count": 31,
     "metadata": {},
     "output_type": "execute_result"
    }
   ],
   "source": [
    "re.findall('[^A-Z]*', str1)"
   ]
  },
  {
   "cell_type": "code",
   "execution_count": 35,
   "id": "5d5dfd64",
   "metadata": {},
   "outputs": [
    {
     "data": {
      "text/plain": [
       "['KS']"
      ]
     },
     "execution_count": 35,
     "metadata": {},
     "output_type": "execute_result"
    }
   ],
   "source": [
    "#last letters\n",
    "re.findall('..$',str1)"
   ]
  },
  {
   "cell_type": "code",
   "execution_count": 36,
   "id": "2f5b8308",
   "metadata": {},
   "outputs": [
    {
     "data": {
      "text/plain": [
       "['ROCKS', '']"
      ]
     },
     "execution_count": 36,
     "metadata": {},
     "output_type": "execute_result"
    }
   ],
   "source": [
    "re.findall('[A-Z]*$',str1)"
   ]
  },
  {
   "cell_type": "code",
   "execution_count": 39,
   "id": "9f694d22",
   "metadata": {},
   "outputs": [
    {
     "data": {
      "text/plain": [
       "['...', '..']"
      ]
     },
     "execution_count": 39,
     "metadata": {},
     "output_type": "execute_result"
    }
   ],
   "source": [
    "re.findall('\\.+',str1)"
   ]
  },
  {
   "cell_type": "code",
   "execution_count": 40,
   "id": "4de4d939",
   "metadata": {},
   "outputs": [],
   "source": [
    "s = \"pradipto@gmail.com\""
   ]
  },
  {
   "cell_type": "code",
   "execution_count": 43,
   "id": "b2e5b8a1",
   "metadata": {},
   "outputs": [
    {
     "data": {
      "text/plain": [
       "'pradipto@kiit.ac.in'"
      ]
     },
     "execution_count": 43,
     "metadata": {},
     "output_type": "execute_result"
    }
   ],
   "source": [
    "#substitution format re.sub(main,sub,str)\n",
    "re.sub('@gmail.com', '@kiit.ac.in',s)"
   ]
  },
  {
   "cell_type": "code",
   "execution_count": null,
   "id": "99ee739b",
   "metadata": {},
   "outputs": [],
   "source": []
  }
 ],
 "metadata": {
  "kernelspec": {
   "display_name": "Python 3 (ipykernel)",
   "language": "python",
   "name": "python3"
  },
  "language_info": {
   "codemirror_mode": {
    "name": "ipython",
    "version": 3
   },
   "file_extension": ".py",
   "mimetype": "text/x-python",
   "name": "python",
   "nbconvert_exporter": "python",
   "pygments_lexer": "ipython3",
   "version": "3.9.7"
  }
 },
 "nbformat": 4,
 "nbformat_minor": 5
}
