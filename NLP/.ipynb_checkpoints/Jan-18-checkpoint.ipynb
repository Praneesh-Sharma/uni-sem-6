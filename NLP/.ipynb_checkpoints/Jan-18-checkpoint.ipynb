{
 "cells": [
  {
   "cell_type": "code",
   "execution_count": 1,
   "id": "3e796abc",
   "metadata": {},
   "outputs": [],
   "source": [
    "import nltk"
   ]
  },
  {
   "cell_type": "markdown",
   "id": "79ea18ff",
   "metadata": {},
   "source": [
    "## Sentence Segmentation"
   ]
  },
  {
   "cell_type": "code",
   "execution_count": 2,
   "id": "d998b0b2",
   "metadata": {},
   "outputs": [],
   "source": [
    "from nltk.tokenize import sent_tokenize"
   ]
  },
  {
   "cell_type": "code",
   "execution_count": 3,
   "id": "e0308217",
   "metadata": {},
   "outputs": [],
   "source": [
    "para = \"India is a democratic country. So, use your freedom and wisdom in good way. Rock On!\""
   ]
  },
  {
   "cell_type": "code",
   "execution_count": 4,
   "id": "1d1326dd",
   "metadata": {},
   "outputs": [
    {
     "data": {
      "text/plain": [
       "'India is a democratic country. So, use your freedom and wisdom in good way. Rock On!'"
      ]
     },
     "execution_count": 4,
     "metadata": {},
     "output_type": "execute_result"
    }
   ],
   "source": [
    "para"
   ]
  },
  {
   "cell_type": "code",
   "execution_count": 5,
   "id": "062e540d",
   "metadata": {},
   "outputs": [
    {
     "data": {
      "text/plain": [
       "str"
      ]
     },
     "execution_count": 5,
     "metadata": {},
     "output_type": "execute_result"
    }
   ],
   "source": [
    "type(para)"
   ]
  },
  {
   "cell_type": "code",
   "execution_count": 8,
   "id": "7bf32764",
   "metadata": {},
   "outputs": [],
   "source": [
    "sents = sent_tokenize(para)"
   ]
  },
  {
   "cell_type": "code",
   "execution_count": 10,
   "id": "a58b2fb5",
   "metadata": {},
   "outputs": [
    {
     "data": {
      "text/plain": [
       "(list, str)"
      ]
     },
     "execution_count": 10,
     "metadata": {},
     "output_type": "execute_result"
    }
   ],
   "source": [
    "type(sents), type(para)"
   ]
  },
  {
   "cell_type": "markdown",
   "id": "4dee3fcd",
   "metadata": {},
   "source": [
    "#### Use looping to display all sentences of para"
   ]
  },
  {
   "cell_type": "code",
   "execution_count": 11,
   "id": "096e951b",
   "metadata": {},
   "outputs": [
    {
     "data": {
      "text/plain": [
       "3"
      ]
     },
     "execution_count": 11,
     "metadata": {},
     "output_type": "execute_result"
    }
   ],
   "source": [
    "len(sents)"
   ]
  },
  {
   "cell_type": "code",
   "execution_count": 13,
   "id": "754b30ec",
   "metadata": {},
   "outputs": [
    {
     "name": "stdout",
     "output_type": "stream",
     "text": [
      "India is a democratic country.\n",
      "So, use your freedom and wisdom in good way.\n",
      "Rock On!\n"
     ]
    }
   ],
   "source": [
    "for sen in sents:\n",
    "    print(sen)"
   ]
  },
  {
   "cell_type": "code",
   "execution_count": 14,
   "id": "e4d4f5f3",
   "metadata": {},
   "outputs": [
    {
     "data": {
      "text/plain": [
       "'Rock On!'"
      ]
     },
     "execution_count": 14,
     "metadata": {},
     "output_type": "execute_result"
    }
   ],
   "source": [
    "sents[2]"
   ]
  },
  {
   "cell_type": "markdown",
   "id": "bf97d1e5",
   "metadata": {},
   "source": [
    "## Word Tokenization"
   ]
  },
  {
   "cell_type": "code",
   "execution_count": 15,
   "id": "7a58da07",
   "metadata": {},
   "outputs": [],
   "source": [
    "from nltk.tokenize import word_tokenize"
   ]
  },
  {
   "cell_type": "code",
   "execution_count": 25,
   "id": "399a613c",
   "metadata": {},
   "outputs": [],
   "source": [
    "tokens = word_tokenize(\"Why are you@ shouting??\")"
   ]
  },
  {
   "cell_type": "code",
   "execution_count": 26,
   "id": "89ff781e",
   "metadata": {},
   "outputs": [
    {
     "data": {
      "text/plain": [
       "7"
      ]
     },
     "execution_count": 26,
     "metadata": {},
     "output_type": "execute_result"
    }
   ],
   "source": [
    "len(tokens)"
   ]
  },
  {
   "cell_type": "markdown",
   "id": "8ade9dc9",
   "metadata": {},
   "source": [
    "#### Use looping to display all tokens"
   ]
  },
  {
   "cell_type": "code",
   "execution_count": 27,
   "id": "501d9a40",
   "metadata": {},
   "outputs": [
    {
     "name": "stdout",
     "output_type": "stream",
     "text": [
      "Why are you @ shouting ? ? "
     ]
    }
   ],
   "source": [
    "for x in tokens:\n",
    "    print(x, end=\" \")"
   ]
  },
  {
   "cell_type": "code",
   "execution_count": 37,
   "id": "8e39cfe1",
   "metadata": {},
   "outputs": [],
   "source": [
    "text = \"Why#are @you shouting??\""
   ]
  },
  {
   "cell_type": "code",
   "execution_count": 38,
   "id": "880efc48",
   "metadata": {},
   "outputs": [
    {
     "data": {
      "text/plain": [
       "['Why#are', '@you', 'shouting??']"
      ]
     },
     "execution_count": 38,
     "metadata": {},
     "output_type": "execute_result"
    }
   ],
   "source": [
    "text.split()"
   ]
  },
  {
   "cell_type": "code",
   "execution_count": 42,
   "id": "4d8d4da5",
   "metadata": {},
   "outputs": [
    {
     "data": {
      "text/plain": [
       "['Why', 'are @you shouting??']"
      ]
     },
     "execution_count": 42,
     "metadata": {},
     "output_type": "execute_result"
    }
   ],
   "source": [
    "text.split('#')"
   ]
  },
  {
   "cell_type": "code",
   "execution_count": 43,
   "id": "d7b39fde",
   "metadata": {},
   "outputs": [
    {
     "data": {
      "text/plain": [
       "['Why', '#', 'are', '@', 'you', 'shouting', '?', '?']"
      ]
     },
     "execution_count": 43,
     "metadata": {},
     "output_type": "execute_result"
    }
   ],
   "source": [
    "word_tokenize(text)"
   ]
  },
  {
   "cell_type": "markdown",
   "id": "9bd28dca",
   "metadata": {},
   "source": [
    "## Stemming"
   ]
  },
  {
   "cell_type": "code",
   "execution_count": 45,
   "id": "380d195d",
   "metadata": {},
   "outputs": [],
   "source": [
    "from nltk.stem import PorterStemmer\n",
    "from nltk.stem import LancasterStemmer\n",
    "from nltk.stem import SnowballStemmer"
   ]
  },
  {
   "cell_type": "code",
   "execution_count": 75,
   "id": "b52f0d22",
   "metadata": {},
   "outputs": [],
   "source": [
    "ps = PorterStemmer()\n",
    "ls = LancasterStemmer()\n",
    "ss = SnowballStemmer(language='english')"
   ]
  },
  {
   "cell_type": "code",
   "execution_count": 47,
   "id": "0975823f",
   "metadata": {},
   "outputs": [
    {
     "data": {
      "text/plain": [
       "'teach'"
      ]
     },
     "execution_count": 47,
     "metadata": {},
     "output_type": "execute_result"
    }
   ],
   "source": [
    "ps.stem(\"teaching\")"
   ]
  },
  {
   "cell_type": "code",
   "execution_count": 55,
   "id": "e4853665",
   "metadata": {},
   "outputs": [],
   "source": [
    "list1 = [\"teaching\", \"taught\", \"teacher\", \"teaches\", \"teach\"]"
   ]
  },
  {
   "cell_type": "code",
   "execution_count": 57,
   "id": "8647c72b",
   "metadata": {},
   "outputs": [
    {
     "name": "stdout",
     "output_type": "stream",
     "text": [
      "teach taught teacher teach teach "
     ]
    }
   ],
   "source": [
    "for word in list1:\n",
    "    print(ps.stem(word), end=\" \")"
   ]
  },
  {
   "cell_type": "code",
   "execution_count": 59,
   "id": "9ebb9462",
   "metadata": {},
   "outputs": [
    {
     "data": {
      "text/plain": [
       "'&#running*'"
      ]
     },
     "execution_count": 59,
     "metadata": {},
     "output_type": "execute_result"
    }
   ],
   "source": [
    "ps.stem(\"&#running*\")"
   ]
  },
  {
   "cell_type": "code",
   "execution_count": 63,
   "id": "3eb9f1ff",
   "metadata": {},
   "outputs": [
    {
     "name": "stdout",
     "output_type": "stream",
     "text": [
      "& # run * "
     ]
    }
   ],
   "source": [
    "for x in (word_tokenize(\"&#running*\")):\n",
    "          print(ps.stem(x), end=\" \")"
   ]
  },
  {
   "cell_type": "code",
   "execution_count": 70,
   "id": "7ff890e5",
   "metadata": {},
   "outputs": [],
   "source": [
    "text = \"I really liked the movie very much!\""
   ]
  },
  {
   "cell_type": "code",
   "execution_count": 71,
   "id": "ff103e40",
   "metadata": {},
   "outputs": [
    {
     "name": "stdout",
     "output_type": "stream",
     "text": [
      "i realli like the movi veri much ! "
     ]
    }
   ],
   "source": [
    "for x in (word_tokenize(text)):\n",
    "          print(ps.stem(x), end=\" \")"
   ]
  },
  {
   "cell_type": "code",
   "execution_count": 73,
   "id": "f72305b0",
   "metadata": {},
   "outputs": [
    {
     "name": "stdout",
     "output_type": "stream",
     "text": [
      "i real lik the movy very much ! "
     ]
    }
   ],
   "source": [
    "for x in (word_tokenize(text)):\n",
    "          print(ls.stem(x), end=\" \")"
   ]
  },
  {
   "cell_type": "code",
   "execution_count": 76,
   "id": "40bee423",
   "metadata": {},
   "outputs": [
    {
     "name": "stdout",
     "output_type": "stream",
     "text": [
      "i realli like the movi veri much ! "
     ]
    }
   ],
   "source": [
    "for x in (word_tokenize(text)):\n",
    "          print(ss.stem(x), end=\" \")"
   ]
  },
  {
   "cell_type": "code",
   "execution_count": 77,
   "id": "2dc1511e",
   "metadata": {},
   "outputs": [
    {
     "name": "stdout",
     "output_type": "stream",
     "text": [
      "i i i\n",
      "realli real realli\n",
      "like lik like\n",
      "the the the\n",
      "movi movy movi\n",
      "veri very veri\n",
      "much much much\n",
      "! ! !\n"
     ]
    }
   ],
   "source": [
    "for x in (word_tokenize(text)):\n",
    "    print(ps.stem(x)+\" \"+ls.stem(x)+\" \"+ss.stem(x))"
   ]
  },
  {
   "cell_type": "code",
   "execution_count": null,
   "id": "8672e452",
   "metadata": {},
   "outputs": [],
   "source": []
  }
 ],
 "metadata": {
  "kernelspec": {
   "display_name": "Python 3 (ipykernel)",
   "language": "python",
   "name": "python3"
  },
  "language_info": {
   "codemirror_mode": {
    "name": "ipython",
    "version": 3
   },
   "file_extension": ".py",
   "mimetype": "text/x-python",
   "name": "python",
   "nbconvert_exporter": "python",
   "pygments_lexer": "ipython3",
   "version": "3.9.7"
  }
 },
 "nbformat": 4,
 "nbformat_minor": 5
}
