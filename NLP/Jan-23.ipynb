{
 "cells": [
  {
   "cell_type": "code",
   "execution_count": 15,
   "id": "946a10ac",
   "metadata": {},
   "outputs": [
    {
     "name": "stderr",
     "output_type": "stream",
     "text": [
      "[nltk_data] Downloading package averaged_perceptron_tagger to\n",
      "[nltk_data]     C:\\Users\\KIIT\\AppData\\Roaming\\nltk_data...\n",
      "[nltk_data]   Unzipping taggers\\averaged_perceptron_tagger.zip.\n"
     ]
    },
    {
     "data": {
      "text/plain": [
       "True"
      ]
     },
     "execution_count": 15,
     "metadata": {},
     "output_type": "execute_result"
    }
   ],
   "source": [
    "import nltk\n",
    "nltk.download('averaged_perceptron_tagger')"
   ]
  },
  {
   "cell_type": "markdown",
   "id": "cf83368d",
   "metadata": {},
   "source": [
    "### Lemmatization"
   ]
  },
  {
   "cell_type": "code",
   "execution_count": 3,
   "id": "aa4ca0fb",
   "metadata": {},
   "outputs": [],
   "source": [
    "from nltk.stem import WordNetLemmatizer"
   ]
  },
  {
   "cell_type": "code",
   "execution_count": 4,
   "id": "0e1da2f2",
   "metadata": {},
   "outputs": [],
   "source": [
    "wnl = WordNetLemmatizer()"
   ]
  },
  {
   "cell_type": "code",
   "execution_count": 5,
   "id": "582d0f37",
   "metadata": {},
   "outputs": [
    {
     "data": {
      "text/plain": [
       "'corpus'"
      ]
     },
     "execution_count": 5,
     "metadata": {},
     "output_type": "execute_result"
    }
   ],
   "source": [
    "wnl.lemmatize(\"corpora\")"
   ]
  },
  {
   "cell_type": "code",
   "execution_count": 10,
   "id": "b7632175",
   "metadata": {},
   "outputs": [
    {
     "name": "stdout",
     "output_type": "stream",
     "text": [
      "cry study going go automaton "
     ]
    }
   ],
   "source": [
    "l1 = [\"cries\", \"stolen\", \"goes\", \"very\", \"giving\", \"automata\"]\n",
    "l2 = [\"cries\", \"studies\", \"going\", \"goes\", \"automata\"]\n",
    "for word in l2:\n",
    "    print(wnl.lemmatize(word),end=\" \")"
   ]
  },
  {
   "cell_type": "markdown",
   "id": "57c81f67",
   "metadata": {},
   "source": [
    "### Pos Tags (Parts of Speech)"
   ]
  },
  {
   "cell_type": "code",
   "execution_count": 12,
   "id": "d2918850",
   "metadata": {},
   "outputs": [],
   "source": [
    "from nltk import pos_tag"
   ]
  },
  {
   "cell_type": "code",
   "execution_count": 23,
   "id": "67ba01b0",
   "metadata": {},
   "outputs": [],
   "source": [
    "str1 = \"she is an amazing student\""
   ]
  },
  {
   "cell_type": "code",
   "execution_count": 24,
   "id": "fdc7dd8a",
   "metadata": {},
   "outputs": [],
   "source": [
    "from nltk.tokenize import word_tokenize"
   ]
  },
  {
   "cell_type": "code",
   "execution_count": 25,
   "id": "1f6f6c43",
   "metadata": {},
   "outputs": [],
   "source": [
    "tokens = word_tokenize(str1)"
   ]
  },
  {
   "cell_type": "code",
   "execution_count": 26,
   "id": "ae664a80",
   "metadata": {},
   "outputs": [
    {
     "data": {
      "text/plain": [
       "['she', 'is', 'an', 'amazing', 'student']"
      ]
     },
     "execution_count": 26,
     "metadata": {},
     "output_type": "execute_result"
    }
   ],
   "source": [
    "tokens"
   ]
  },
  {
   "cell_type": "code",
   "execution_count": 27,
   "id": "5c87d800",
   "metadata": {},
   "outputs": [
    {
     "data": {
      "text/plain": [
       "[('she', 'PRP'),\n",
       " ('is', 'VBZ'),\n",
       " ('an', 'DT'),\n",
       " ('amazing', 'JJ'),\n",
       " ('student', 'NN')]"
      ]
     },
     "execution_count": 27,
     "metadata": {},
     "output_type": "execute_result"
    }
   ],
   "source": [
    "pos_tag(tokens)"
   ]
  },
  {
   "cell_type": "code",
   "execution_count": 31,
   "id": "91c44633",
   "metadata": {},
   "outputs": [],
   "source": [
    "str2 = \"Nandini is a brilliant student and she attends class regularly too\""
   ]
  },
  {
   "cell_type": "code",
   "execution_count": 34,
   "id": "e46f0c36",
   "metadata": {},
   "outputs": [],
   "source": [
    "toks = word_tokenize(str2)"
   ]
  },
  {
   "cell_type": "code",
   "execution_count": 35,
   "id": "e06305b0",
   "metadata": {},
   "outputs": [
    {
     "data": {
      "text/plain": [
       "[('Nandini', 'NNP'),\n",
       " ('is', 'VBZ'),\n",
       " ('a', 'DT'),\n",
       " ('brilliant', 'JJ'),\n",
       " ('student', 'NN'),\n",
       " ('and', 'CC'),\n",
       " ('she', 'PRP'),\n",
       " ('attends', 'VBZ'),\n",
       " ('class', 'NN'),\n",
       " ('regularly', 'RB'),\n",
       " ('too', 'RB')]"
      ]
     },
     "execution_count": 35,
     "metadata": {},
     "output_type": "execute_result"
    }
   ],
   "source": [
    "pos_tag(toks)"
   ]
  },
  {
   "cell_type": "code",
   "execution_count": 36,
   "id": "2d0bc818",
   "metadata": {},
   "outputs": [],
   "source": [
    "# NNP = Porper Noun\n",
    "# VBZ = Auziliary Verb\n",
    "# DT =  Determiner\n",
    "# JJ = Adjective\n",
    "# NN = Noun\n",
    "# CC = Conjunction\n",
    "# PRP = Pronoun"
   ]
  },
  {
   "cell_type": "markdown",
   "id": "408d0812",
   "metadata": {},
   "source": [
    "### NER"
   ]
  },
  {
   "cell_type": "markdown",
   "id": "d924e1ac",
   "metadata": {},
   "source": [
    "### Chunking"
   ]
  },
  {
   "cell_type": "code",
   "execution_count": null,
   "id": "dd326751",
   "metadata": {},
   "outputs": [],
   "source": []
  }
 ],
 "metadata": {
  "kernelspec": {
   "display_name": "Python 3 (ipykernel)",
   "language": "python",
   "name": "python3"
  },
  "language_info": {
   "codemirror_mode": {
    "name": "ipython",
    "version": 3
   },
   "file_extension": ".py",
   "mimetype": "text/x-python",
   "name": "python",
   "nbconvert_exporter": "python",
   "pygments_lexer": "ipython3",
   "version": "3.9.7"
  }
 },
 "nbformat": 4,
 "nbformat_minor": 5
}
