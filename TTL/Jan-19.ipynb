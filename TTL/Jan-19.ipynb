{
 "cells": [
  {
   "cell_type": "code",
   "execution_count": 11,
   "id": "9c5fbb48",
   "metadata": {
    "collapsed": true
   },
   "outputs": [
    {
     "name": "stdout",
     "output_type": "stream",
     "text": [
      "Enter lower bound: 1\n",
      "Enter upper bound: 50\n",
      "Enter your guess: 2\n",
      "Guess again.\n",
      "Enter your guess: 3\n",
      "Guess again.\n",
      "Enter your guess: 4\n",
      "Guess again.\n",
      "Enter your guess: 5\n",
      "Guess again.\n",
      "Enter your guess: 6\n",
      "Guess again.\n",
      "Enter your guess: 7\n",
      "Guess again.\n",
      "Enter your guess: 8\n",
      "Guess again.\n",
      "The number is between:  9  and  34\n",
      "Enter your guess: 11\n",
      "Guess again.\n",
      "Enter your guess: 13\n",
      "Guess again.\n",
      "Enter your guess: 15\n",
      "Guess again.\n",
      "Enter your guess: 17\n",
      "Guess again.\n",
      "Enter your guess: 19\n",
      "Guess again.\n",
      "Enter your guess: 21\n",
      "Guess again.\n",
      "Enter your guess: 23\n",
      "Guess again.\n",
      "Time's up! The number was:  18\n"
     ]
    }
   ],
   "source": [
    "#number guesser\n",
    "import random\n",
    "\n",
    "x = int(input(\"Enter lower bound: \"))\n",
    "y = int(input(\"Enter upper bound: \"))\n",
    "count = 14\n",
    "flag=0\n",
    "\n",
    "if(x<y):\n",
    "    ran = random.randrange(x,y)\n",
    "\n",
    "while(count!=7):\n",
    "    guess = int(input(\"Enter your guess: \"))\n",
    "    if guess==ran:\n",
    "        flag+=1\n",
    "        break\n",
    "    else:\n",
    "        print(\"Guess again.\")\n",
    "    count -= 1\n",
    "\n",
    "if flag==1:\n",
    "    print(\"You guessed correct.\")\n",
    "else:\n",
    "    print(\"The number is between: \", (ran+x)//2, \" and \", (ran+y)//2)\n",
    "\n",
    "while(count!=0):\n",
    "    guess = int(input(\"Enter your guess: \"))\n",
    "    if guess==ran:\n",
    "        flag+=1\n",
    "        break\n",
    "    else:\n",
    "        print(\"Guess again.\")\n",
    "    count-=1\n",
    "\n",
    "if flag==1:\n",
    "    print(\"You guessed correct.\")\n",
    "else:\n",
    "    print(\"Time's up! The number was: \", ran)"
   ]
  },
  {
   "cell_type": "code",
   "execution_count": 17,
   "id": "d2d0d6a9",
   "metadata": {
    "collapsed": true
   },
   "outputs": [
    {
     "name": "stdout",
     "output_type": "stream",
     "text": [
      "Enter your guess: a\n",
      "Guess again.\n",
      "Enter your guess: b\n",
      "Guess again.\n",
      "Enter your guess: c\n",
      "Guess again.\n",
      "Enter your guess: d\n",
      "Guess again.\n",
      "Enter your guess: e\n",
      "Guess again.\n",
      "The first and last letter of the word is:  w  and  n\n",
      "Enter your guess: wagon\n",
      "You guessed correct.\n"
     ]
    }
   ],
   "source": [
    "#guess the word\n",
    "word = [\"coupe\", \"suv\", \"pickup\", \"crossover\", \"sportscar\", \"wagon\", \"minivan\", \"sedan\", \"hybrid\", \"offroad\"]\n",
    "ran = random.choice(word)\n",
    "count = 10\n",
    "flag = 0\n",
    "\n",
    "while(count!=5):\n",
    "    guess = input(\"Enter your guess: \")\n",
    "    if guess == ran:\n",
    "        flag += 1\n",
    "        break\n",
    "    else:\n",
    "        print(\"Guess again.\")\n",
    "    count-=1\n",
    "\n",
    "if flag==1:\n",
    "    print(\"You guessed correct.\")\n",
    "else:\n",
    "    print(\"The first and last letter of the word is: \", ran[0], \" and \", ran[-1])\n",
    "\n",
    "while(count!=0):\n",
    "    guess = input(\"Enter your guess: \")\n",
    "    if guess == ran:\n",
    "        flag += 1\n",
    "        break\n",
    "    else:\n",
    "        print(\"Guess again.\")\n",
    "    count-=1\n",
    "\n",
    "if flag==1:\n",
    "    print(\"You guessed correct.\")\n",
    "else:\n",
    "    print(\"Time's up! The word was: \", ran)"
   ]
  },
  {
   "cell_type": "code",
   "execution_count": 20,
   "id": "cc8dbb6b",
   "metadata": {},
   "outputs": [
    {
     "name": "stdout",
     "output_type": "stream",
     "text": [
      "[1, 2, 3, 4, 5]\n",
      "[1, 2, 3, 4]\n",
      "1\n"
     ]
    }
   ],
   "source": [
    "#Create a list of numbers and perform various operations such as adding elements, removing elements, and accessing elememts bny index\n",
    "l1 = [1,2,3,4]\n",
    "l1.append(5)\n",
    "print(l1)\n",
    "\n",
    "l1.pop()\n",
    "print(l1)\n",
    "\n",
    "print(l1[0])"
   ]
  },
  {
   "cell_type": "code",
   "execution_count": 23,
   "id": "03a64e19",
   "metadata": {},
   "outputs": [
    {
     "name": "stdout",
     "output_type": "stream",
     "text": [
      "(1, 2, 3, 4)\n",
      "3\n"
     ]
    },
    {
     "ename": "TypeError",
     "evalue": "'tuple' object does not support item assignment",
     "output_type": "error",
     "traceback": [
      "\u001b[1;31m---------------------------------------------------------------------------\u001b[0m",
      "\u001b[1;31mTypeError\u001b[0m                                 Traceback (most recent call last)",
      "\u001b[1;32m~\\AppData\\Local\\Temp\\ipykernel_26620\\2281470827.py\u001b[0m in \u001b[0;36m<module>\u001b[1;34m\u001b[0m\n\u001b[0;32m      7\u001b[0m \u001b[0mprint\u001b[0m\u001b[1;33m(\u001b[0m\u001b[0mt3\u001b[0m\u001b[1;33m[\u001b[0m\u001b[1;36m2\u001b[0m\u001b[1;33m]\u001b[0m\u001b[1;33m)\u001b[0m\u001b[1;33m\u001b[0m\u001b[1;33m\u001b[0m\u001b[0m\n\u001b[0;32m      8\u001b[0m \u001b[1;33m\u001b[0m\u001b[0m\n\u001b[1;32m----> 9\u001b[1;33m \u001b[0mt3\u001b[0m\u001b[1;33m[\u001b[0m\u001b[1;36m0\u001b[0m\u001b[1;33m]\u001b[0m \u001b[1;33m=\u001b[0m \u001b[1;36m5\u001b[0m\u001b[1;33m\u001b[0m\u001b[1;33m\u001b[0m\u001b[0m\n\u001b[0m\u001b[0;32m     10\u001b[0m \u001b[0mprint\u001b[0m\u001b[1;33m(\u001b[0m\u001b[0mt3\u001b[0m\u001b[1;33m)\u001b[0m\u001b[1;33m\u001b[0m\u001b[1;33m\u001b[0m\u001b[0m\n",
      "\u001b[1;31mTypeError\u001b[0m: 'tuple' object does not support item assignment"
     ]
    }
   ],
   "source": [
    "#create a tuple to represent an immutable collection and try accessing elements and performing basic operations\n",
    "t1 = (1,2)\n",
    "t2 = (3,4)\n",
    "t3 = t1 + t2\n",
    "print(t3)\n",
    "\n",
    "print(t3[2])\n",
    "\n",
    "t3[0] = 5\n",
    "print(t3)"
   ]
  },
  {
   "cell_type": "code",
   "execution_count": 27,
   "id": "240cb843",
   "metadata": {},
   "outputs": [
    {
     "name": "stdout",
     "output_type": "stream",
     "text": [
      "{'car', 'jeep', 'bike'}\n",
      "{'bike'}\n",
      "{'car'}\n"
     ]
    }
   ],
   "source": [
    "#create a set to store unique elements  and perform set operations such union, intersection and difference\n",
    "s1 = {\"car\", \"bike\"}\n",
    "s2 = {\"bike\", \"jeep\"}\n",
    "\n",
    "print(s1.union(s2))\n",
    "print(s1.intersection(s2))\n",
    "print(s1.difference(s2))"
   ]
  },
  {
   "cell_type": "code",
   "execution_count": 31,
   "id": "6e2e260a",
   "metadata": {},
   "outputs": [
    {
     "name": "stdout",
     "output_type": "stream",
     "text": [
      "{1: 'car', 2: 'bike', 3: 'jeep'}\n",
      "{1: 'truck', 2: 'bike', 3: 'jeep'}\n",
      "bike\n"
     ]
    }
   ],
   "source": [
    "#create a dictionary to represent key-value pairs and perform operations like adding, updating ad accessing values\n",
    "d1 = {1:\"car\", 2:\"bike\"}\n",
    "d1[3] = \"jeep\"\n",
    "print(d1)\n",
    "\n",
    "d1[1] = \"truck\"\n",
    "print(d1)\n",
    "\n",
    "print(d1[2])"
   ]
  },
  {
   "cell_type": "code",
   "execution_count": null,
   "id": "40b89fc6",
   "metadata": {},
   "outputs": [],
   "source": []
  }
 ],
 "metadata": {
  "kernelspec": {
   "display_name": "Python 3 (ipykernel)",
   "language": "python",
   "name": "python3"
  },
  "language_info": {
   "codemirror_mode": {
    "name": "ipython",
    "version": 3
   },
   "file_extension": ".py",
   "mimetype": "text/x-python",
   "name": "python",
   "nbconvert_exporter": "python",
   "pygments_lexer": "ipython3",
   "version": "3.9.13"
  }
 },
 "nbformat": 4,
 "nbformat_minor": 5
}
