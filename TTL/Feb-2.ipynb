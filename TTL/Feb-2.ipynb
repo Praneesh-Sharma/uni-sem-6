{
 "cells": [
  {
   "cell_type": "code",
   "execution_count": 97,
   "id": "3a1a14b6",
   "metadata": {},
   "outputs": [
    {
     "name": "stdout",
     "output_type": "stream",
     "text": [
      "Enter list: [1,2,3,4,5]\n",
      "[1,2,3,4,5]\n",
      "\n",
      "[[0. 0.]\n",
      " [0. 0.]]\n",
      "\n",
      "[[1. 1.]\n",
      " [1. 1.]]\n",
      "\n",
      "[ 0  5 10 15]\n"
     ]
    }
   ],
   "source": [
    "#Create NumPy arrays with different methods (lists, zeros, ones, arange)\n",
    "import numpy as np\n",
    "\n",
    "list1 = input(\"Enter list: \")\n",
    "\n",
    "arr1 = np.array(list1) #using list\n",
    "arr2 = np.zeros((2,2)) #using zeros\n",
    "arr3 = np.ones((2,2)) #using ones\n",
    "arr4 = np.arange(0,20,5) #using arange\n",
    "\n",
    "print(arr1, end=\"\\n\\n\")\n",
    "print(arr2, end=\"\\n\\n\")\n",
    "print(arr3, end=\"\\n\\n\")\n",
    "print(arr4)"
   ]
  },
  {
   "cell_type": "code",
   "execution_count": 103,
   "id": "ebc3791a",
   "metadata": {},
   "outputs": [
    {
     "name": "stdout",
     "output_type": "stream",
     "text": [
      "Enter element: 10\n",
      "Enter element: 9\n",
      "Enter element: 8\n",
      "Enter element: 7\n",
      "Enter element: 6\n",
      "Enter element: 5\n",
      "Enter element: 4\n",
      "Enter element: 3\n",
      "Enter element: 2\n",
      "Enter element: 1\n",
      "[10  8  6  4  2]\n",
      "[9 7 5 3 1]\n",
      "Addition [19 15 11  7  3]\n",
      "Subtraction [1 1 1 1 1]\n",
      "Multiplication [90 56 30 12  2]\n",
      "Division [0.9        0.875      0.83333333 0.75       0.5       ]\n"
     ]
    }
   ],
   "source": [
    "#Perform mathematical operations on NumPy arrays (addition, subtraction, multiplication, division).\n",
    "list1 = []\n",
    "list2 = []\n",
    "for i in range(5):\n",
    "    list1.append(int(input(\"Enter element: \")))\n",
    "    list2.append(int(input(\"Enter element: \")))\n",
    "\n",
    "arr1 = np.array(list1)\n",
    "arr2 = np.array(list2)\n",
    "\n",
    "print(arr1,arr2,sep=\"\\n\")\n",
    "print(\"Addition\", arr1 + arr2)\n",
    "print(\"Subtraction\", arr1 - arr2)\n",
    "print(\"Multiplication\", arr1 * arr2)\n",
    "print(\"Division\", arr2 / arr1)"
   ]
  },
  {
   "cell_type": "code",
   "execution_count": 35,
   "id": "5bdcf2c4",
   "metadata": {},
   "outputs": [
    {
     "name": "stdout",
     "output_type": "stream",
     "text": [
      "Indexing first row, thrid element: 3\n",
      "Slicing first 2 rows:\n",
      " [[1 2 3]\n",
      " [4 5 6]]\n",
      "Slicing first 2 rows and columns:\n",
      " [[1 2]\n",
      " [4 5]]\n"
     ]
    }
   ],
   "source": [
    "#Practice indexing and slicing NumPy arrays.\n",
    "arr = np.array([[1,2,3],[4,5,6],[7,8,9]])\n",
    "\n",
    "print(\"Indexing first row, thrid element:\", arr[0,2])\n",
    "print(\"Slicing first 2 rows:\\n\", arr[:2])\n",
    "print(\"Slicing first 2 rows and columns:\\n\", arr[:2, :2])"
   ]
  },
  {
   "cell_type": "code",
   "execution_count": 41,
   "id": "91c89539",
   "metadata": {},
   "outputs": [
    {
     "name": "stdout",
     "output_type": "stream",
     "text": [
      "Mean:  5.2\n",
      "Median:  5.5\n",
      "Mode:  [7]\n"
     ]
    }
   ],
   "source": [
    "# Use NumPy functions for basic statistical analysis like mean,median and mode.\n",
    "from scipy import stats\n",
    "arr = np.array([1,2,3,4,5,6,7,7,8,9])\n",
    "\n",
    "print(\"Mean: \", np.mean(arr))\n",
    "print(\"Median: \", np.median(arr))\n",
    "print(\"Mode: \", stats.mode(arr)[0])"
   ]
  },
  {
   "cell_type": "code",
   "execution_count": 54,
   "id": "3966f8ce",
   "metadata": {},
   "outputs": [
    {
     "name": "stdout",
     "output_type": "stream",
     "text": [
      "Original array:\n",
      " [[1 2]\n",
      " [3 4]\n",
      " [5 6]]\n",
      "\n",
      "Reshaped array:\n",
      " [[1 2 3]\n",
      " [4 5 6]]\n",
      "\n",
      "Transposed array:\n",
      " [[1 3 5]\n",
      " [2 4 6]]\n"
     ]
    }
   ],
   "source": [
    "#Experiment with reshaping and transposing NumPy arrays\n",
    "arr = np.array([[1,2],[3,4],[5,6]])\n",
    "\n",
    "print(\"Original array:\\n\",arr)\n",
    "print(\"\\nReshaped array:\\n\", arr.reshape(2,3))\n",
    "print(\"\\nTransposed array:\\n\", arr.T)"
   ]
  },
  {
   "cell_type": "markdown",
   "id": "85e433da",
   "metadata": {},
   "source": [
    "### Problem: Analyzing Temperature Data\n"
   ]
  },
  {
   "cell_type": "code",
   "execution_count": 92,
   "id": "2499f077",
   "metadata": {},
   "outputs": [],
   "source": [
    "#Create a NumPy array with randomly generated hourly temperature readings for a week (168 data points).\n",
    "#The temperature readings can vary between 10°C and 30°C.\n",
    "dataset = np.random.uniform(10,30,168)"
   ]
  },
  {
   "cell_type": "code",
   "execution_count": 93,
   "id": "50522048",
   "metadata": {},
   "outputs": [
    {
     "name": "stdout",
     "output_type": "stream",
     "text": [
      "Mean temperature of the week:  20.78664032871028\n",
      "Maximum and minimum temperature of the week:  29.98199552150564 10.00168533826541\n",
      "Standard Deviation:  5.787290465121583\n"
     ]
    }
   ],
   "source": [
    "#Mean temperature for the week.\n",
    "print(\"Mean temperature of the week: \", np.mean(data))\n",
    "\n",
    "#Maximum and minimum temperatures recorded.\n",
    "print(\"Maximum and minimum temperature of the week: \", np.max(data), np.min(data))\n",
    "\n",
    "#Standard deviation of the temperature readings.\n",
    "print(\"Standard Deviation: \", np.std(data))"
   ]
  },
  {
   "cell_type": "markdown",
   "id": "d5864344",
   "metadata": {},
   "source": [
    "#### Time-based Analysis:"
   ]
  },
  {
   "cell_type": "code",
   "execution_count": 94,
   "id": "b5f0b4f2",
   "metadata": {},
   "outputs": [
    {
     "name": "stdout",
     "output_type": "stream",
     "text": [
      "Mean temperatures: [19.70579216 20.09058599 20.741145   20.77515584 18.86839795 20.50394464\n",
      " 18.51942355]\n",
      "Maximum temp in hour:  [20  7  9  4 17 12  4]\n",
      "\n",
      "Hours when temp exceeds threshold:\n",
      "0 2\n",
      "0 4\n",
      "0 13\n",
      "0 18\n",
      "0 20\n",
      "0 21\n",
      "1 3\n",
      "1 7\n",
      "1 9\n",
      "1 12\n",
      "1 17\n",
      "1 19\n",
      "1 20\n",
      "2 8\n",
      "2 9\n",
      "2 11\n",
      "2 12\n",
      "2 15\n",
      "2 16\n",
      "2 23\n",
      "3 4\n",
      "3 6\n",
      "3 7\n",
      "3 8\n",
      "3 11\n",
      "3 15\n",
      "3 16\n",
      "3 19\n",
      "4 9\n",
      "4 15\n",
      "4 17\n",
      "4 18\n",
      "5 0\n",
      "5 11\n",
      "5 12\n",
      "5 15\n",
      "5 16\n",
      "5 22\n",
      "5 23\n",
      "6 0\n",
      "6 4\n",
      "6 12\n",
      "\n",
      "Number of occurrences:  42\n"
     ]
    }
   ],
   "source": [
    "#Reshape the temperature array into a 2D array, where each row represents a day and each column represents an hour.\n",
    "data = dataset.reshape(7,24)\n",
    "\n",
    "#Calculate the mean temperature for each day.\n",
    "print(\"Mean temperatures:\", np.mean(data, axis=1))\n",
    "\n",
    "#Determine the hour when the maximum temperature occurs each day.\n",
    "print(\"Maximum temp in hour: \", np.argmax(data, axis=1))\n",
    "\n",
    "#Identify and print the indices (hours) when the temperature exceeds a certain threshold (e.g., 25°C).\n",
    "threshold = np.where(data > 25)\n",
    "print(\"\\nHours when temp exceeds threshold:\")\n",
    "for day, hour in zip(*threshold):\n",
    "    print(day, hour)\n",
    "    \n",
    "#Count the number of occurrences when the temperature exceeds this threshol\n",
    "print(\"\\nNumber of occurrences: \", np.sum(data>25))"
   ]
  },
  {
   "cell_type": "markdown",
   "id": "b20917f7",
   "metadata": {},
   "source": [
    "#### Temperature Fluctuations"
   ]
  },
  {
   "cell_type": "code",
   "execution_count": 84,
   "id": "192480c2",
   "metadata": {},
   "outputs": [
    {
     "name": "stdout",
     "output_type": "stream",
     "text": [
      "Hourly Difference:  [[  3.47237838 -11.21873381  13.04898844 -10.11075865   0.31223696\n",
      "    7.15084111 -10.45114072   0.127077     1.07530004   3.0764519\n",
      "   10.05420386  -3.0296202  -14.4744669    6.8172671   -4.05381816\n",
      "    9.89404765  -5.56411301   2.84592377   4.23209504  -0.98647908\n",
      "  -10.78731876  -2.24690685   8.20265987]\n",
      " [  7.06970793   1.36642471 -15.65376777   1.7034773    3.94443476\n",
      "    6.60296891  -3.45544022   1.70538242 -10.25648158   2.81971664\n",
      "   -3.08281121  15.43402967 -12.77608186   4.29342071   5.23090628\n",
      "  -12.36517183  15.61764132 -11.06051177   8.06639217  -6.08621912\n",
      "    6.76727076  -5.72048519  -8.0028352 ]\n",
      " [ -5.84407522  11.50539749  -0.7274882    2.21375611   1.58794586\n",
      "   -9.64803785  12.94975141  -5.19721631   2.25651334 -12.93799903\n",
      "    0.59124846  14.23694405  -5.89361926   0.984317     0.43372128\n",
      "   -3.4215506   -7.12061432  -2.12736896  10.3903454    6.66470573\n",
      "    0.37501015  -1.40236116 -16.4521813 ]\n",
      " [ 12.49210637  -6.94022011  -3.07101319  -6.32466565   9.70652372\n",
      "   -3.53097761  10.46949019 -15.92963377   3.68495743  13.57689066\n",
      "  -17.65316585  -1.41612315  12.73978349   6.45289375  -5.17427486\n",
      "  -11.53988916  12.04814851  -1.61460392   2.98044751  -6.33204415\n",
      "    9.33316394  -1.35765255 -10.5061259 ]\n",
      " [  2.64156054  -1.69551532 -12.20836201   2.08377028  -6.63990585\n",
      "   13.69663526  -9.8000637   14.65369679  -3.65258225  -6.80835723\n",
      "    6.91537879 -14.95078107   2.71005975   1.46309329   2.44040617\n",
      "   -2.78937947  11.57140316 -15.41975338   2.38859641   3.44418954\n",
      "    2.11434878   1.56604782   5.84893693]\n",
      " [  1.97836712 -14.28358487   8.1908145    5.34775634  -3.46448799\n",
      "   -2.16770702   9.14766752  -8.48249015   9.88874217  -0.94589469\n",
      "   -7.51823078   4.34694795  -5.20928947   6.81765033  -6.20906318\n",
      "   10.22334226 -18.99149772  16.79643271 -11.52139193   7.13788007\n",
      "   -0.56263472 -10.03997935   9.3090362 ]\n",
      " [ -9.96948065  -0.20094296   7.87848786  -5.9131009    0.94619502\n",
      "    9.88097912 -15.52662662   9.2671325   -1.41045791   1.43496276\n",
      "    6.14863384  -2.37471949 -11.91997246  10.74797234  -7.23582443\n",
      "    4.1565741  -12.39705589  17.73069292  -0.25905244 -15.27374948\n",
      "   -0.78326809   7.25063084   7.98762044]]\n",
      "Max positive change:  (4, 8)\n",
      "Min positive change:  (5, 2)\n"
     ]
    }
   ],
   "source": [
    "#Calculate the hourly temperature differences (deltas) from one hour to the next.\n",
    "print(\"Hourly Difference: \", np.diff(data, axis=1))\n",
    "\n",
    "#Identify the hour with the maximum positive temperature change and the hour with the maximum negative change.\n",
    "print(\"Max positive change: \", np.unravel_index(np.argmax(data),data.shape))\n",
    "print(\"Min positive change: \", np.unravel_index(np.argmin(data),data.shape))"
   ]
  },
  {
   "cell_type": "markdown",
   "id": "dfa13c4f",
   "metadata": {},
   "source": [
    "#### Visualization:"
   ]
  },
  {
   "cell_type": "code",
   "execution_count": 90,
   "id": "0c4ff413",
   "metadata": {},
   "outputs": [
    {
     "name": "stdout",
     "output_type": "stream",
     "text": [
      "Enter which day: 2\n"
     ]
    },
    {
     "data": {
      "image/png": "[encoded data removed]",
      "text/plain": [
       "<Figure size 720x432 with 1 Axes>"
      ]
     },
     "metadata": {
      "needs_background": "light"
     },
     "output_type": "display_data"
    }
   ],
   "source": [
    "#Use Matplotlib to plot the hourly temperature readings for one selected day.\n",
    "import matplotlib.pyplot as plt\n",
    "\n",
    "day = int(input(\"Enter which day: \"))\n",
    "num = data[day]\n",
    "xaxis = np.arange(24)\n",
    "\n",
    "plt.figure(figsize=(10, 6))\n",
    "plt.plot(xaxis, num, marker='o', color='b', linestyle='-')\n",
    "plt.title('Hourly Temperature Readings for Day 1')\n",
    "plt.xlabel('Hour')\n",
    "plt.ylabel('Temperature (°C)')\n",
    "plt.grid(True)\n",
    "plt.xticks(xaxis)\n",
    "plt.show()"
   ]
  },
  {
   "cell_type": "code",
   "execution_count": 95,
   "id": "803d99ac",
   "metadata": {},
   "outputs": [
    {
     "data": {
      "image/png": "[encoded data removed]",
      "text/plain": [
       "<Figure size 720x432 with 1 Axes>"
      ]
     },
     "metadata": {
      "needs_background": "light"
     },
     "output_type": "display_data"
    }
   ],
   "source": [
    "#Create a histogram showing the distribution of temperatures across all hours.\n",
    "plt.figure(figsize=(10, 6))\n",
    "plt.hist(dataset, bins=20, color='skyblue', edgecolor='black', alpha=0.7)\n",
    "plt.title('Distribution of Temperatures Across All Hours')\n",
    "plt.xlabel('Temperature (°C)')\n",
    "plt.ylabel('Frequency')\n",
    "plt.grid(axis='y', alpha=0.75)\n",
    "plt.show()"
   ]
  },
  {
   "cell_type": "code",
   "execution_count": null,
   "id": "dd782a25",
   "metadata": {},
   "outputs": [],
   "source": []
  }
 ],
 "metadata": {
  "kernelspec": {
   "display_name": "Python 3 (ipykernel)",
   "language": "python",
   "name": "python3"
  },
  "language_info": {
   "codemirror_mode": {
    "name": "ipython",
    "version": 3
   },
   "file_extension": ".py",
   "mimetype": "text/x-python",
   "name": "python",
   "nbconvert_exporter": "python",
   "pygments_lexer": "ipython3",
   "version": "3.9.7"
  }
 },
 "nbformat": 4,
 "nbformat_minor": 5
}
