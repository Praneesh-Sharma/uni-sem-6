{
 "cells": [
  {
   "cell_type": "code",
   "execution_count": 21,
   "id": "0e9af7fb",
   "metadata": {},
   "outputs": [
    {
     "name": "stdout",
     "output_type": "stream",
     "text": [
      "[1 2 3 4 5]\n",
      "\n",
      "[[0. 0.]\n",
      " [0. 0.]]\n",
      "\n",
      "[[1. 1.]\n",
      " [1. 1.]]\n",
      "\n",
      "[ 0  5 10 15]\n"
     ]
    }
   ],
   "source": [
    "#Create NumPy arrays with different methods (lists, zeros, ones, arange)\n",
    "import numpy as np\n",
    "\n",
    "arr1 = np.array([1,2,3,4,5]) #using list\n",
    "arr2 = np.zeros((2,2)) #using zeros\n",
    "arr3 = np.ones((2,2)) #using ones\n",
    "arr4 = np.arange(0,20,5) #using arange\n",
    "\n",
    "print(arr1, end=\"\\n\\n\")\n",
    "print(arr2, end=\"\\n\\n\")\n",
    "print(arr3, end=\"\\n\\n\")\n",
    "print(arr4)"
   ]
  },
  {
   "cell_type": "code",
   "execution_count": 28,
   "id": "35af842e",
   "metadata": {},
   "outputs": [
    {
     "name": "stdout",
     "output_type": "stream",
     "text": [
      "Addition [ 3  7 11 15 19]\n",
      "Subtraction [1 1 1 1 1]\n",
      "Multiplication [ 2 12 30 56 90]\n",
      "Division [0.5        0.75       0.83333333 0.875      0.9       ]\n"
     ]
    }
   ],
   "source": [
    "#Perform mathematical operations on NumPy arrays (addition, subtraction, multiplication, division).\n",
    "arr1 = np.array([2,4,6,8,10])\n",
    "arr2 = np.array([1,3,5,7,9])\n",
    "\n",
    "print(\"Addition\", arr1 + arr2)\n",
    "print(\"Subtraction\", arr1 - arr2)\n",
    "print(\"Multiplication\", arr1 * arr2)\n",
    "print(\"Division\", arr2 / arr1)"
   ]
  },
  {
   "cell_type": "code",
   "execution_count": 35,
   "id": "4a903523",
   "metadata": {},
   "outputs": [
    {
     "name": "stdout",
     "output_type": "stream",
     "text": [
      "Indexing first row, thrid element: 3\n",
      "Slicing first 2 rows:\n",
      " [[1 2 3]\n",
      " [4 5 6]]\n",
      "Slicing first 2 rows and columns:\n",
      " [[1 2]\n",
      " [4 5]]\n"
     ]
    }
   ],
   "source": [
    "#Practice indexing and slicing NumPy arrays.\n",
    "arr = np.array([[1,2,3],[4,5,6],[7,8,9]])\n",
    "\n",
    "print(\"Indexing first row, thrid element:\", arr[0,2])\n",
    "print(\"Slicing first 2 rows:\\n\", arr[:2])\n",
    "print(\"Slicing first 2 rows and columns:\\n\", arr[:2, :2])"
   ]
  },
  {
   "cell_type": "code",
   "execution_count": 41,
   "id": "5c45ef42",
   "metadata": {},
   "outputs": [
    {
     "name": "stdout",
     "output_type": "stream",
     "text": [
      "Mean:  5.2\n",
      "Median:  5.5\n",
      "Mode:  [7]\n"
     ]
    }
   ],
   "source": [
    "# Use NumPy functions for basic statistical analysis like mean,median and mode.\n",
    "from scipy import stats\n",
    "arr = np.array([1,2,3,4,5,6,7,7,8,9])\n",
    "\n",
    "print(\"Mean: \", np.mean(arr))\n",
    "print(\"Median: \", np.median(arr))\n",
    "print(\"Mode: \", stats.mode(arr)[0])"
   ]
  },
  {
   "cell_type": "code",
   "execution_count": 48,
   "id": "5cc73664",
   "metadata": {},
   "outputs": [
    {
     "name": "stdout",
     "output_type": "stream",
     "text": [
      "Reshaped array:\n",
      " [[1 2 3]\n",
      " [4 5 6]]\n"
     ]
    }
   ],
   "source": [
    "#Experiment with reshaping and transposing NumPy arrays\n",
    "arr = np.array([[1,2],[3,4],[5,6]])\n",
    "\n",
    "print(\"Reshaped array:\\n\", arr2)"
   ]
  },
  {
   "cell_type": "code",
   "execution_count": null,
   "id": "04115a30",
   "metadata": {},
   "outputs": [],
   "source": []
  }
 ],
 "metadata": {
  "kernelspec": {
   "display_name": "Python 3 (ipykernel)",
   "language": "python",
   "name": "python3"
  },
  "language_info": {
   "codemirror_mode": {
    "name": "ipython",
    "version": 3
   },
   "file_extension": ".py",
   "mimetype": "text/x-python",
   "name": "python",
   "nbconvert_exporter": "python",
   "pygments_lexer": "ipython3",
   "version": "3.9.7"
  }
 },
 "nbformat": 4,
 "nbformat_minor": 5
}
