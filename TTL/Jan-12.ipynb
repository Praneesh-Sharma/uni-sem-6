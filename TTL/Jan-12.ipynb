{
 "cells": [
  {
   "cell_type": "code",
   "execution_count": 1,
   "id": "4d5a2d1d",
   "metadata": {},
   "outputs": [
    {
     "name": "stdout",
     "output_type": "stream",
     "text": [
      "Hello World\n"
     ]
    }
   ],
   "source": [
    "#Hello World\n",
    "print(\"Hello World\")"
   ]
  },
  {
   "cell_type": "code",
   "execution_count": 3,
   "id": "a4089754",
   "metadata": {},
   "outputs": [
    {
     "name": "stdout",
     "output_type": "stream",
     "text": [
      "Enter input: 10\n"
     ]
    }
   ],
   "source": [
    "#Variables and Input\n",
    "num = input(\"Enter input: \")"
   ]
  },
  {
   "cell_type": "code",
   "execution_count": 4,
   "id": "4407dc25",
   "metadata": {},
   "outputs": [],
   "source": [
    "#Constants and Comments\n",
    "num = 10\n",
    "#this is a comment"
   ]
  },
  {
   "cell_type": "code",
   "execution_count": 8,
   "id": "2c9529ed",
   "metadata": {},
   "outputs": [
    {
     "name": "stdout",
     "output_type": "stream",
     "text": [
      "type of num1:  <class 'float'>\n",
      "type of num2:  <class 'str'>\n",
      "type of num3:  <class 'int'>\n"
     ]
    }
   ],
   "source": [
    "#Data Types and Type Conversion\n",
    "num1 = 5.5\n",
    "num2 = \"cars\"\n",
    "\n",
    "print(\"type of num1: \", type(num1))\n",
    "print(\"type of num2: \", type(num2))\n",
    "\n",
    "num3 = int(num1)\n",
    "print(\"type of num3: \", type(num3))"
   ]
  },
  {
   "cell_type": "code",
   "execution_count": 9,
   "id": "831d8654",
   "metadata": {},
   "outputs": [
    {
     "name": "stdout",
     "output_type": "stream",
     "text": [
      "15 5 50 2.0\n"
     ]
    }
   ],
   "source": [
    "#Arithmetic Operators and Expressions\n",
    "a = 10 + 5\n",
    "b = 10 - 5\n",
    "c = 10 * 5\n",
    "d = 10 / 5\n",
    "\n",
    "print(a,b,c,d,sep=\" \")"
   ]
  },
  {
   "cell_type": "code",
   "execution_count": 11,
   "id": "fd883536",
   "metadata": {},
   "outputs": [
    {
     "name": "stdout",
     "output_type": "stream",
     "text": [
      "a\n",
      "I like cars\n"
     ]
    }
   ],
   "source": [
    "#String Manipulation\n",
    "word = \"cars\"\n",
    "sen = \"I like\"\n",
    "print(sen + \" \" + word)"
   ]
  },
  {
   "cell_type": "code",
   "execution_count": 14,
   "id": "3be838e9",
   "metadata": {},
   "outputs": [
    {
     "name": "stdout",
     "output_type": "stream",
     "text": [
      "True\n",
      "False\n"
     ]
    }
   ],
   "source": [
    "#Logical Operators\n",
    "num1 = 10\n",
    "num2 = 5\n",
    "\n",
    "print(num1 > 6 and num2 < 6)\n",
    "print(num1 > 6 and num2 > 6)"
   ]
  },
  {
   "cell_type": "code",
   "execution_count": 16,
   "id": "1c066fe9",
   "metadata": {},
   "outputs": [
    {
     "name": "stdout",
     "output_type": "stream",
     "text": [
      "car jeep\n"
     ]
    }
   ],
   "source": [
    "#List and Indexing\n",
    "list0 = [\"car\", \"bike\", \"jeep\", \"truck\"]\n",
    "print(list0[0], list0[2])"
   ]
  },
  {
   "cell_type": "code",
   "execution_count": 17,
   "id": "ef0252a4",
   "metadata": {},
   "outputs": [],
   "source": [
    "#Conditional Statements\n",
    "x = 10\n",
    "if(x > 5):\n",
    "    x += 5\n",
    "else:\n",
    "    x -= 5"
   ]
  },
  {
   "cell_type": "code",
   "execution_count": 19,
   "id": "5e328114",
   "metadata": {},
   "outputs": [
    {
     "name": "stdout",
     "output_type": "stream",
     "text": [
      "0\n",
      "1\n",
      "2\n",
      "3\n",
      "2\n",
      "1\n"
     ]
    }
   ],
   "source": [
    "#Looping with For and While\n",
    "num = 3\n",
    "for x in range(num):\n",
    "    print(x)\n",
    "    \n",
    "while(num>0):\n",
    "    print(num)\n",
    "    num -= 1"
   ]
  }
 ],
 "metadata": {
  "kernelspec": {
   "display_name": "Python 3 (ipykernel)",
   "language": "python",
   "name": "python3"
  },
  "language_info": {
   "codemirror_mode": {
    "name": "ipython",
    "version": 3
   },
   "file_extension": ".py",
   "mimetype": "text/x-python",
   "name": "python",
   "nbconvert_exporter": "python",
   "pygments_lexer": "ipython3",
   "version": "3.9.13"
  }
 },
 "nbformat": 4,
 "nbformat_minor": 5
}
